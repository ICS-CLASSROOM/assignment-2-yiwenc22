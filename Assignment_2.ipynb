{
 "cells": [
  {
   "cell_type": "markdown",
   "id": "1b996668",
   "metadata": {},
   "source": [
    "Yiwen Chen"
   ]
  },
  {
   "cell_type": "code",
   "execution_count": 6,
   "id": "1443cdff",
   "metadata": {},
   "outputs": [],
   "source": [
    "import re"
   ]
  },
  {
   "cell_type": "markdown",
   "id": "9aa8d15e",
   "metadata": {},
   "source": [
    "# Assignment 2: Analyzing large datasets with Spark.\n",
    "\n",
    "\n",
    "For this assignment, you will need to make sure you're running from a PySpark docker environment I introduced in class. You can start the docker pySpark docker environment using the following command:\n",
    "\n",
    "```\n",
    "docker run --rm -p 4040:4040 -p 8888:8888 -v $(pwd):/home/jovyan/work jupyter/all-spark-notebook\n",
    "```\n",
    "\n",
    "Make sure you run the command from the directory containing this jupyter notebook and your data folder.\n",
    "\n",
    "\n",
    "</b>\n",
    "# WARNING: For some reason, ipynbb document didn't always sync properly when I was pushing to github. As such, please push often and make sure your incremental changes appear on GitHub.\n",
    "</b>"
   ]
  },
  {
   "cell_type": "markdown",
   "id": "66b0d3e6",
   "metadata": {},
   "source": [
    "### Part 1\n",
    "\n",
    "The first part will use Spark to analyze the following books, which I have downloaded for you to use from Project Gutenberg. The files are saved to the data folder.\n",
    "\n",
    "| File name | Book Title|\n",
    "|:---------:|:----------|\n",
    "|43.txt | The Strange Case of Dr. Jekyll and Mr. Hyde by Robert Louis Stevenson|\n",
    "|84.txt | Frankenstein; Or, The Modern Prometheus by Mary Wollstonecraft Shelley |\n",
    "|398.txt  | The First Book of Adam and Eve by Rutherford Hayes Platt|\n",
    "|3296.txt | The Confessions of St. Augustine by Bishop of Hippo Saint Augustine|\n",
    "\n",
    "The objective is to explore whether we can detect similarity between books within the same topic using word-based similarity. \n",
    "\n",
    "The task of identifying similar texts in Natural Language Processing is crucial. A naive method for determining whether two documents are similar is to treat them as collections of words (bag of words) and use the number of words they share as a proxy for their similarity. It makes sense that two books with religion as the topic (e.g.  `398.txt` and `3296.txt`) would have more words in common than a book that discusses religion and a book that discusses science fiction (e.g. books `84.txt` and `398.txt`). \n",
    "\n",
    "As mentioned above, we will be using Spark to analyze the data. Although Spark is not needed for such a small example, the platform would be ideal for analyzing very large collections of documents, like those often analyzed by large corporations\n",
    "\n",
    "This part of the assignment will rely exclusively on RDDs."
   ]
  },
  {
   "cell_type": "markdown",
   "id": "87a15530",
   "metadata": {},
   "source": [
    "### Q1. \n",
    "Start by importing Spark and making sure your environment is set up properly for the assignment.\n",
    "\n",
    "Import the spark context necessary to load a document as an RDD; ignore any error messages"
   ]
  },
  {
   "cell_type": "code",
   "execution_count": 12,
   "id": "e80df4d4",
   "metadata": {},
   "outputs": [
    {
     "name": "stderr",
     "output_type": "stream",
     "text": [
      "WARNING: An illegal reflective access operation has occurred\n",
      "WARNING: Illegal reflective access by org.apache.spark.unsafe.Platform (file:/usr/local/spark-3.2.0-bin-hadoop3.2/jars/spark-unsafe_2.12-3.2.0.jar) to constructor java.nio.DirectByteBuffer(long,int)\n",
      "WARNING: Please consider reporting this to the maintainers of org.apache.spark.unsafe.Platform\n",
      "WARNING: Use --illegal-access=warn to enable warnings of further illegal reflective access operations\n",
      "WARNING: All illegal access operations will be denied in a future release\n",
      "Using Spark's default log4j profile: org/apache/spark/log4j-defaults.properties\n",
      "Setting default log level to \"WARN\".\n",
      "To adjust logging level use sc.setLogLevel(newLevel). For SparkR, use setLogLevel(newLevel).\n",
      "21/11/09 07:18:38 WARN NativeCodeLoader: Unable to load native-hadoop library for your platform... using builtin-java classes where applicable\n"
     ]
    }
   ],
   "source": [
    "from pyspark import SparkContext\n",
    "sc = SparkContext()"
   ]
  },
  {
   "cell_type": "markdown",
   "id": "336d5c9d",
   "metadata": {},
   "source": [
    "### Q2 \n",
    "\n",
    "Read in the file `43.txt` as a spark RDD and save it to a variable called `book_43`\n",
    " * make sure `book_43` is of type MapPartitionsRDD, i.e.,\n",
    "   * str(type(book_43)) == \"<class 'pyspark.rdd.RDD'>\" should return True "
   ]
  },
  {
   "cell_type": "code",
   "execution_count": 14,
   "id": "3d4164f5",
   "metadata": {},
   "outputs": [
    {
     "data": {
      "text/plain": [
       "True"
      ]
     },
     "execution_count": 14,
     "metadata": {},
     "output_type": "execute_result"
    }
   ],
   "source": [
    "book_43 = sc.textFile('data/43.txt')\n",
    "str(type(book_43)) == \"<class 'pyspark.rdd.RDD'>\""
   ]
  },
  {
   "cell_type": "markdown",
   "id": "0b8c051e",
   "metadata": {},
   "source": [
    "### Q3\n",
    "\n",
    "How many lines does `book_43` contain?\n",
    "* You can only use operations or actions on RDDs to answer the question. \n",
    "  * Code that uses methods such as `some_rdd.X().Y().Z()...` is allowed\n",
    "  * Code that uses functions such as `some_func(...)` is not allowed"
   ]
  },
  {
   "cell_type": "code",
   "execution_count": 17,
   "id": "b3c5a06e",
   "metadata": {},
   "outputs": [
    {
     "name": "stdout",
     "output_type": "stream",
     "text": [
      "2935\n"
     ]
    }
   ],
   "source": [
    "print(book_43.count())"
   ]
  },
  {
   "cell_type": "markdown",
   "id": "bca2bc6d",
   "metadata": {},
   "source": [
    "### Q4 \n",
    "\n",
    "Prior to analyzing the words contained in this book, we need to first remove the occurrences of non-alphabetical characters and numbers from the text. You can use the following function, which takes a line as input, removes digits and non-word characters, and splits it into a collection of words. \n",
    "\n",
    "```python\n",
    "def clean_split_line(line):\n",
    "    a = re.sub('\\d+', '', line)\n",
    "    b = re.sub('[\\W]+', ' ', a)\n",
    "    return b.upper().split()\n",
    "```\n",
    "\n",
    "Use the fucntion above on the variable (test_line) to see what it returns.\n",
    "```python\n",
    "test_line = \"This is an example of that contains 234 and a dash-containing number\"\n",
    "```"
   ]
  },
  {
   "cell_type": "code",
   "execution_count": 18,
   "id": "55ce2754",
   "metadata": {},
   "outputs": [
    {
     "data": {
      "text/plain": [
       "['THIS',\n",
       " 'IS',\n",
       " 'AN',\n",
       " 'EXAMPLE',\n",
       " 'OF',\n",
       " 'THAT',\n",
       " 'CONTAINS',\n",
       " 'AND',\n",
       " 'A',\n",
       " 'DASH',\n",
       " 'CONTAINING',\n",
       " 'NUMBER']"
      ]
     },
     "execution_count": 18,
     "metadata": {},
     "output_type": "execute_result"
    }
   ],
   "source": [
    "def clean_split_line(line):\n",
    "    a = re.sub('\\d+', '', line)\n",
    "    b = re.sub('[\\W]+', ' ', a)\n",
    "    return b.upper().split()\n",
    "test_line = \"This is an example of that contains 234 and a dash-containing number\"\n",
    "clean_split_line(test_line)"
   ]
  },
  {
   "cell_type": "markdown",
   "id": "b5e951e5",
   "metadata": {},
   "source": [
    "### Q5\n",
    "\n",
    "How many words does `book_43` contain? To answer this question, you may find it useful to apply the function in a spark-fashion. \n",
    "* You can only use operations or actions on RDDs to answer the question. \n",
    "  * Code that uses methods such as `some_rdd.X().Y().Z()...` is allowed\n",
    "  * Code that uses functions such as `some_func(...)` is not allowed\n"
   ]
  },
  {
   "cell_type": "code",
   "execution_count": 19,
   "id": "99c1b93f",
   "metadata": {},
   "outputs": [
    {
     "data": {
      "text/plain": [
       "29116"
      ]
     },
     "execution_count": 19,
     "metadata": {},
     "output_type": "execute_result"
    }
   ],
   "source": [
    "words = book_43.flatMap(clean_split_line)\n",
    "words.count()"
   ]
  },
  {
   "cell_type": "markdown",
   "id": "30d62952",
   "metadata": {},
   "source": [
    "### Q6\n",
    "\n",
    "How many of the words in book_43 are unique? Given that words can appear in lower, upper or mixed case (ex. The, THE, the), make sure you convert the words into lower case before counting them.\n"
   ]
  },
  {
   "cell_type": "code",
   "execution_count": 21,
   "id": "07785c77",
   "metadata": {},
   "outputs": [
    {
     "name": "stdout",
     "output_type": "stream",
     "text": [
      "book 43: 4296 unique words\n"
     ]
    }
   ],
   "source": [
    "def clean_split_line_lower(line):\n",
    "    a = re.sub('\\d+', '', line)\n",
    "    b = re.sub('[\\W]+', ' ', a)\n",
    "    return b.lower().split()\n",
    "\n",
    "words_lower = book_43.flatMap(clean_split_line_lower)\n",
    "unique_words = words_lower.distinct()\n",
    "unique_words_count = unique_words.count()\n",
    "print(f\"book 43: {unique_words_count} unique words\")"
   ]
  },
  {
   "cell_type": "markdown",
   "id": "91b13b79",
   "metadata": {},
   "source": [
    "### Q7\n",
    "\n",
    "* Generate an `RDD` that contains the frequency of each word in `book_43`. Call the variable `book_43_counts`. Each item in the `RDD` should be a tuple with the word as the first element of the tuple and the count as the second item of the tuple. The collection should look like the following:\n",
    "\n",
    "[('project', 88), (\"the\", 1807), ... ]\n",
    "\n",
    "* Such a collection may contain a large number of words and it would be imprudent to transfer all the words onto the same machine to display it. Instead, to explore the content of such a collection, display only the first element in your list. \n",
    "\n",
    "* Given the random nature of this operation, the first element element displayed may be different. The first entry for me was:\n",
    "```\n",
    "[('project', 88)]\n",
    "```\n",
    "\n",
    "* You can only use operations or actions to answer the question. \n",
    "* Code that uses methods such as `some_rdd.X().Y().Z()...` is allowed\n",
    "* Code that uses functions such as `some_func(...)` is not allowed\n"
   ]
  },
  {
   "cell_type": "code",
   "execution_count": 22,
   "id": "42729b95",
   "metadata": {},
   "outputs": [
    {
     "data": {
      "text/plain": [
       "[('project', 88)]"
      ]
     },
     "execution_count": 22,
     "metadata": {},
     "output_type": "execute_result"
    }
   ],
   "source": [
    "book_43_counts = book_43.flatMap(clean_split_line_lower).map(lambda x: (x,1)).reduceByKey(lambda x,y: x+y)\n",
    "book_43_counts.take(1)"
   ]
  },
  {
   "cell_type": "markdown",
   "id": "1ee4534c",
   "metadata": {},
   "source": [
    "### Q8\n",
    "\n",
    "Sort `book_43_counts` and print the 20 most frequent words in book_43. \n",
    "  * Hint: function `sortByKey` sorts a collection of tuples on the first element element of the list. You can easily change the order of the items in each element and use `sortByKey` to sort on the second item of each element in `book_43_counts`\n",
    "  * You can only use operations or actions to answer the question. \n",
    "  * Code that uses methods such as `some_rdd.X().Y().Z()...` is allowed\n",
    "  * Code that uses functions such as `some_func(...)` is not allowed"
   ]
  },
  {
   "cell_type": "code",
   "execution_count": 23,
   "id": "d51b8ea9",
   "metadata": {},
   "outputs": [
    {
     "data": {
      "text/plain": [
       "[('the', 1807),\n",
       " ('of', 1068),\n",
       " ('and', 1043),\n",
       " ('to', 726),\n",
       " ('a', 686),\n",
       " ('i', 646),\n",
       " ('in', 485),\n",
       " ('was', 471),\n",
       " ('that', 392),\n",
       " ('he', 384),\n",
       " ('it', 378),\n",
       " ('you', 312),\n",
       " ('my', 308),\n",
       " ('with', 301),\n",
       " ('his', 285),\n",
       " ('had', 244),\n",
       " ('as', 203),\n",
       " ('for', 202),\n",
       " ('this', 195),\n",
       " ('but', 193)]"
      ]
     },
     "execution_count": 23,
     "metadata": {},
     "output_type": "execute_result"
    }
   ],
   "source": [
    "new_sort = book_43_counts.sortBy(lambda x: x[1], False)\n",
    "new_sort.take(20)"
   ]
  },
  {
   "cell_type": "markdown",
   "id": "13420b09",
   "metadata": {},
   "source": [
    "### Q9\n",
    "\n",
    "You must have noted that the most frequent words in `book_43_counts` include stop words such as `of`, `the`, `and`, etc.\n",
    "\n",
    "It would be inefficient to compare documents based on whether or not they contain stop words; those are common to all documents. As such, it's common to remove such stop words. The librarary `sklearn.feature_extraction` provides access to a collection of English stop words, which can be loaded using the following snippet:\n",
    "\n",
    "```\n",
    "from sklearn.feature_extraction import stop_words\n",
    "stop_words.ENGLISH_STOP_WORDS\n",
    "```\n",
    "\n",
    "* Explore ENGLISH_STOP_WORDS (it's a frozen set data structure, i.e., a set that you cannot modify) by printing any 10 words from it. \n",
    " * Hint: convert the frozen set to something you can subscript\n"
   ]
  },
  {
   "cell_type": "code",
   "execution_count": 24,
   "id": "0e0ad996",
   "metadata": {},
   "outputs": [
    {
     "name": "stdout",
     "output_type": "stream",
     "text": [
      "['always', 'can', 'bottom', 're', 'only', 'thus', 'couldnt', 'why', 'because', 'them']\n"
     ]
    }
   ],
   "source": [
    "from sklearn.feature_extraction import _stop_words\n",
    "stop_words = list(_stop_words.ENGLISH_STOP_WORDS)\n",
    "print(stop_words[:10])"
   ]
  },
  {
   "cell_type": "markdown",
   "id": "625eb521",
   "metadata": {},
   "source": [
    "### Q10\n",
    "\n",
    "Filter out the words in `book_43_counts` by removing those that appear in the ENGLISH_STOP_WORDS.\n",
    "Save the results to a new variable called `book_43_counts_filtered`\n",
    "  * You can only use operarations or actions on RDDs to answer the question. \n",
    "  * Code that uses methods such as `some_rdd.X().Y().Z()...` is allowed\n",
    "  * Code that uses function such as `some_func(...)` is not allowed\n"
   ]
  },
  {
   "cell_type": "code",
   "execution_count": 26,
   "id": "5602b4ff",
   "metadata": {},
   "outputs": [],
   "source": [
    "book_43_counts_filtered = book_43_counts.filter(lambda x: x[0] not in stop_words)"
   ]
  },
  {
   "cell_type": "markdown",
   "id": "3d0b3a80",
   "metadata": {},
   "source": [
    "### Q11\n",
    "\n",
    "* How many words are left in `book_43_counts_filtered` after removing the stop words"
   ]
  },
  {
   "cell_type": "code",
   "execution_count": 28,
   "id": "a5bdf083",
   "metadata": {},
   "outputs": [
    {
     "name": "stdout",
     "output_type": "stream",
     "text": [
      "There are 4034 unique words in book 43 after removing the stop words\n"
     ]
    }
   ],
   "source": [
    "book_43_filtered_counts = book_43_counts_filtered.count()\n",
    "print(f\"There are {book_43_filtered_counts} unique words in book 43 after removing the stop words\")"
   ]
  },
  {
   "cell_type": "markdown",
   "id": "23ffd755",
   "metadata": {},
   "source": [
    "### Q12 \n",
    "\n",
    "* Create a function called *process_RDD* that combines the relevant steps you proposed above to make it convenient to apply them to the remaining four books. Your function should accept an input text file path and:\n",
    " * Reads in the file as a textRDD\n",
    " * Cleans and splits the line using `clean_split_line`\n",
    " * Filters out the stop words\n",
    " * Returns a word count RDD where each item is a tuple of words and its count.\n",
    " \n"
   ]
  },
  {
   "cell_type": "code",
   "execution_count": 29,
   "id": "eff5d5e8",
   "metadata": {},
   "outputs": [],
   "source": [
    "def process_RDD(path):\n",
    "    book = sc.textFile(path)\n",
    "    book_word_counts = book.flatMap(clean_split_line_lower).map(lambda x: (x,1)).reduceByKey(lambda x,y: x+y)\n",
    "    return book_word_counts.filter(lambda x: x[0] not in _stop_words.ENGLISH_STOP_WORDS)"
   ]
  },
  {
   "cell_type": "markdown",
   "id": "ba59c9c5",
   "metadata": {},
   "source": [
    "### Q13 \n",
    "\n",
    "Apply the function `process_RDD` to `book_84`, `book_398` and `book_3296` and save the results to variables `book_84_counts_filtered`, `book_398_counts_filtered` and `book_3296_counts_filtered` respectively. How many distinct words does each book contain after filtering the stop words.\n"
   ]
  },
  {
   "cell_type": "code",
   "execution_count": 30,
   "id": "08a24f66",
   "metadata": {},
   "outputs": [
    {
     "name": "stdout",
     "output_type": "stream",
     "text": [
      "There are 7016 unique words in book 84\n",
      "There are 2421 unique words in book 398\n",
      "There are 7293 unique words in book 3296\n"
     ]
    }
   ],
   "source": [
    "book_84_counts_filtered = process_RDD('data/84.txt')\n",
    "book_398_counts_filtered = process_RDD('data/398.txt')\n",
    "book_3296_counts_filtered = process_RDD('data/3296.txt')\n",
    "\n",
    "print(f\"There are {book_84_counts_filtered.count()} unique words in book 84\")\n",
    "print(f\"There are {book_398_counts_filtered.count()} unique words in book 398\")\n",
    "print(f\"There are {book_3296_counts_filtered.count()} unique words in book 3296\")"
   ]
  },
  {
   "cell_type": "markdown",
   "id": "7fb9680f",
   "metadata": {},
   "source": [
    "### Q14 \n",
    "\n",
    "We discussed how to evaluate similarity between two texts using the number of words they share. We hypothesized that books that are similar should have more words in common than books that are dissimilar. If that holds, `book_398` and `book_3296`, which both pertain to religion, will have more words in common than, say, `book_84` and `book_398`. Test this hypothesis by writing code that compares and prints the number of words shared between `book_398` and `book_3296` and then between `book_84` and `book_398`.\n"
   ]
  },
  {
   "cell_type": "code",
   "execution_count": 32,
   "id": "ac6b73e0",
   "metadata": {},
   "outputs": [
    {
     "name": "stdout",
     "output_type": "stream",
     "text": [
      "Number of similar words between book 398 and book 3296: 1790\n",
      "Number of similar words between book 84 and book 398: 1691\n"
     ]
    }
   ],
   "source": [
    "def shared_words(words_one, words_two):\n",
    "    words_shared = words_one.map(lambda x: x[0]).intersection(words_two.map(lambda x: x[0]))\n",
    "    return words_shared\n",
    "\n",
    "print(f\"Number of similar words between book 398 and book 3296: {shared_words(book_398_counts_filtered, book_3296_counts_filtered).count()}\")\n",
    "print(f\"Number of similar words between book 84 and book 398: {shared_words(book_84_counts_filtered, book_398_counts_filtered).count()}\")"
   ]
  },
  {
   "cell_type": "markdown",
   "id": "cef9f326",
   "metadata": {},
   "source": [
    "### Q15\n",
    "\n",
    "* Based on the above, do you think counting the number of shared words is a good idea as a distance metric for evaluating topic similarity? Justify your answer?\n",
    "* Hint: What do *book_84* and *book_3296* have in common? "
   ]
  },
  {
   "cell_type": "code",
   "execution_count": 37,
   "id": "f659c782",
   "metadata": {},
   "outputs": [
    {
     "name": "stdout",
     "output_type": "stream",
     "text": [
      "They share 3608 word\n"
     ]
    }
   ],
   "source": [
    "print(f'They share {book_84_counts_filtered.join(book_3296_counts_filtered).count()} word')"
   ]
  },
  {
   "cell_type": "markdown",
   "id": "6587ae14",
   "metadata": {},
   "source": [
    "#### Write your answer here\n",
    "Counting the number of shared words don't seem like a good idea because book 398 and 3296 have less shared words than book 84 and 3296. however book 398 and 3296 both pertain to religion and the amount of shared words is less than 84 and 3296."
   ]
  },
  {
   "cell_type": "markdown",
   "id": "a6f8f857",
   "metadata": {},
   "source": [
    "## Part II \n",
    "\n",
    "Another approach to estimating similarity consists of computing the Euclidean distance across a set of words. For example, suppose we have 3 documents A, B and C with the following counts for the words `evolution`, `DNA`, `biology` and `finance`. \n",
    "\n",
    "```python \n",
    "A = [4, 9, 6, 8]\n",
    "B = [3, 7, 7, 10]\n",
    "C = [15, 10, 1, 1]\n",
    "```\n",
    "Although all documents contain exactly the four words, the number of times these words appear in each book may be indicative of thier topic. For example, documents `A` and `B` are more likely to be business related since they contain the word `finance` more frequently (8 and 10 times respectively). Document `C` may be a technical document since it focuses on more technical words (`evolution` and `DNA`) and less on the words `finance`.\n",
    "\n",
    "The Euclidean distance, which can be computed using the `scikit` snippet below, is more indicative of topic-relatedness between the two documents.\n",
    "\n",
    "```python\n",
    "from scipy.spatial.distance import euclidean \n",
    "print(f\"The Euclidean distance between A and B is: {euclidean(A, B)}\")\n",
    "\n",
    "print(f\"The Euclidean distance between A and C is: {euclidean(A, C)}\")\n",
    "\n",
    "print(f\"The Euclidean distance between B and C is: {euclidean(B, C)}\")\n",
    "```\n"
   ]
  },
  {
   "cell_type": "markdown",
   "id": "9abdc35e",
   "metadata": {},
   "source": [
    "### Q16\n",
    "\n",
    "To calculate the Euclidean distance, we must first identify the set of words by which we will compare the documents. Here, we will explore the words that are common to all 4 documents. We will store the data in a matrix called `counts_matrix`.\n",
    "\n",
    "Start by finding the words that are common to all four documents after stop-word filtering and store the counts for each word in a column of `counts_matrix`. \n",
    "\n",
    "To take the previous example, you can generate an emtpy matrix with 3 lines (documents `A`, `B` and `C`) and 4 columns (words `evolution`, `DNA`, `biology` and `finance`) using the following code.\n",
    "\n",
    "```python\n",
    "import numpy as np\n",
    "counts_matrix = np.zeros([3,4])\n",
    "```\n",
    "\n",
    "After generting the counts, you can fill the counts for a document, say `A`, using the following code:\n",
    "\n",
    "```python\n",
    "counts_matrix[0, :] = [4, 9, 6, 8] \n",
    "```\n",
    "* Other than for building `counts_matrix` you should exclusively use operations or actions on the `RDD` to answer this question. \n",
    "  * Code that uses methods such as `some_rdd.X().Y().Z()...` is allowed\n",
    "  * Code that uses functions such as `some_func(...)` is not allowed\n"
   ]
  },
  {
   "cell_type": "code",
   "execution_count": 38,
   "id": "c3cae946",
   "metadata": {},
   "outputs": [
    {
     "data": {
      "text/plain": [
       "array([[ 88.,  98.,  13., ...,   1.,   1.,   1.],\n",
       "       [ 88.,  98.,  13., ...,   1.,   1.,   1.],\n",
       "       [ 87.,  93., 102., ...,   1.,   1.,   1.],\n",
       "       [ 88.,  97., 136., ...,   1.,   1.,   1.]])"
      ]
     },
     "execution_count": 38,
     "metadata": {},
     "output_type": "execute_result"
    }
   ],
   "source": [
    "import numpy as np\n",
    "\n",
    "union_one = shared_words(book_43_counts_filtered, book_84_counts_filtered)\n",
    "union_two = shared_words(book_398_counts_filtered, book_3296_counts_filtered)\n",
    "union_three = union_one.intersection(union_two)\n",
    "\n",
    "counts_matrix_width = union_three.count()\n",
    "books_words_shared = np.array(union_three.collect())\n",
    "\n",
    "book_43_words_shared = book_43_counts_filtered.filter(lambda x: x[0] in books_words_shared)\n",
    "book_84_words_shared = book_84_counts_filtered.filter(lambda x: x[0] in books_words_shared)\n",
    "book_398_words_shared = book_398_counts_filtered.filter(lambda x: x[0] in books_words_shared)\n",
    "book_3296_words_shared = book_3296_counts_filtered.filter(lambda x: x[0] in books_words_shared)\n",
    "\n",
    "counts_matrix = np.zeros([4, counts_matrix_width])\n",
    "\n",
    "counts_matrix[0, :] = np.array(book_43_words_shared.map(lambda x: x[1]).collect())\n",
    "counts_matrix[1, :] = np.array(book_84_words_shared.map(lambda x: x[1]).collect())\n",
    "counts_matrix[2, :] = np.array(book_398_words_shared.map(lambda x: x[1]).collect())\n",
    "counts_matrix[3, :] = np.array(book_3296_words_shared.map(lambda x: x[1]).collect())\n",
    "\n",
    "counts_matrix"
   ]
  },
  {
   "cell_type": "markdown",
   "id": "124bcdd8",
   "metadata": {},
   "source": [
    "### Q17\n",
    "\n",
    "Compute the Euclidean distance between `book_398` and `book_3296`, which both talk about religion and `book_84` and `book_398`. What do you conclude about using the Euclidean distance for evaluating topic relatedness across documents?\n"
   ]
  },
  {
   "cell_type": "code",
   "execution_count": 39,
   "id": "7b6a81dd",
   "metadata": {},
   "outputs": [
    {
     "name": "stdout",
     "output_type": "stream",
     "text": [
      "The Euclidean distance between books 398 and 3296 is 1470.8415958219293.\n",
      "The Euclidean distance between books 84 and 398 is 867.2508287687017.\n"
     ]
    }
   ],
   "source": [
    "from scipy.spatial.distance import euclidean\n",
    "\n",
    "print(f\"The Euclidean distance between books 398 and 3296 is {euclidean(counts_matrix[2], counts_matrix[3])}.\")\n",
    "print(f\"The Euclidean distance between books 84 and 398 is {euclidean(counts_matrix[1], counts_matrix[2])}.\")"
   ]
  },
  {
   "cell_type": "markdown",
   "id": "89981b46",
   "metadata": {},
   "source": [
    "#### Write your justification here\n",
    "Using the euclidean distance is not so helpful for determing realtedness arcoss documents because book 398 and book 3296 are related by religion their distance is still greater than book 84 and book 398.  However is still seem better than just counting the words based on the larger difference when comparing the books."
   ]
  },
  {
   "cell_type": "markdown",
   "id": "3f4e54e6",
   "metadata": {},
   "source": [
    "### Q18\n",
    "\n",
    "Bonus question (5 points): Can you think of a few things we could do to improve similarity between documents that pertain to the same topic. Justify your answer without giving code"
   ]
  },
  {
   "cell_type": "markdown",
   "id": "5c8c6de1",
   "metadata": {},
   "source": [
    "#### Write your answer here\n",
    "The documents can improve by removing word tthat only used one time in each documents. So, it can lowers the occurs rates. Also we can use more parameter or other parameter for the fistance function so it can holds flats number of each word make the weight of some words to be more accurate."
   ]
  },
  {
   "cell_type": "markdown",
   "id": "aedf1d74",
   "metadata": {},
   "source": [
    "## Part III\n",
    "\n",
    "In this part we will build some basic analytics for a dataset consisting of flight arrival and departure details for all commercial flights within the USA in one month. While this dataset can be managed using Pandas (<1M records), scaling to a yearly or longer timeframe will greatly benefit from using a distributed computing framework such as `Spark`.\n",
    "\n",
    "Here, you should use exclusively `SparkDatFrames. \n",
    "\n",
    "We want to analyze this dataset to better schedule trips.  For example:\n",
    " * Avoid airlines carriers that are most often associated with delays.\n",
    " * Avoid departure days where delays are most frequent.\n",
    " * Avoid airports which are associated with delays or long taxxying time.\n",
    "* etc.\n",
    " \n",
    "\n",
    "The information about the fields contained in the data file can be found [here](https://dataverse.harvard.edu/dataset.xhtml;jsessionid=0414e25969eccd0e88ae4d64fa0b?persistentId=doi%3A10.7910%2FDVN%2FHG7NV7&version=&q=&fileTypeGroupFacet=&fileTag=%221.+Documentation%22&fileSortField=date&fileSortOrder=desc)\n"
   ]
  },
  {
   "cell_type": "markdown",
   "id": "149805af",
   "metadata": {},
   "source": [
    "### Q19\n",
    "\n",
    "Load the file `flight_info.csv` into a spark `DataFrame` called `fight_info`.\n",
    "\n",
    "  * Note that you will need to create a sparkSession prior to loading the data\n",
    "  \n",
    "* How many entries does the file contain?\n",
    "\n"
   ]
  },
  {
   "cell_type": "code",
   "execution_count": 40,
   "id": "3ad5e6ad",
   "metadata": {},
   "outputs": [
    {
     "name": "stdout",
     "output_type": "stream",
     "text": [
      "The file contains 450017 entries\n"
     ]
    }
   ],
   "source": [
    "from pyspark.sql import SparkSession\n",
    "\n",
    "spark = SparkSession(sc)\n",
    "flight_info = spark.read.csv(\"data/flight_info.csv\", header=True)\n",
    "flight_counts = flight_info.count()\n",
    "\n",
    "print(f\"The file contains {flight_counts} entries\")"
   ]
  },
  {
   "cell_type": "markdown",
   "id": "4fad81f1",
   "metadata": {},
   "source": [
    "### Q20\n",
    "\n",
    "Use `pySpark-SQL` or `pandas-like syntax to compute the airlines represented in this dataset\n",
    "The airline information is stored in a field called UniqueCarrier\n",
    "* UniqueCarrier: Represents the unique carrier code (ex.AA = American Airlines) \n"
   ]
  },
  {
   "cell_type": "code",
   "execution_count": 41,
   "id": "73fd7b0b",
   "metadata": {},
   "outputs": [
    {
     "name": "stdout",
     "output_type": "stream",
     "text": [
      "+-------------+\n",
      "|UniqueCarrier|\n",
      "+-------------+\n",
      "|           AA|\n",
      "|           EV|\n",
      "|           B6|\n",
      "|           DL|\n",
      "|           UA|\n",
      "|           NK|\n",
      "|           OO|\n",
      "|           F9|\n",
      "|           HA|\n",
      "|           WN|\n",
      "|           AS|\n",
      "|           VX|\n",
      "+-------------+\n",
      "\n"
     ]
    }
   ],
   "source": [
    "unique_carrier = flight_info.select(\"UniqueCarrier\").distinct()\n",
    "\n",
    "unique_carrier.show()"
   ]
  },
  {
   "cell_type": "markdown",
   "id": "1349b2f5",
   "metadata": {},
   "source": [
    "### Q21\n",
    "\n",
    "The data file contains various other fields, two of which are useful for answering the next question.\n",
    "\n",
    "* CRSDepTime: Represents the scheduled departure time\n",
    "* DepTime: Represents the actual departure time\n",
    "\n",
    "Compute the number of flights delayed per each carried code represented in this dataset. Sort the data by decreasing order of delays.\n",
    "  * A delay is observed when `DepTime` > `CRSDepTime`\n"
   ]
  },
  {
   "cell_type": "code",
   "execution_count": 42,
   "id": "c72cff25",
   "metadata": {},
   "outputs": [
    {
     "name": "stdout",
     "output_type": "stream",
     "text": [
      "+-------------+-----+\n",
      "|UniqueCarrier|count|\n",
      "+-------------+-----+\n",
      "|           WN|54557|\n",
      "|           DL|28962|\n",
      "|           AA|26291|\n",
      "|           UA|19594|\n",
      "|           OO|17924|\n",
      "|           EV|12340|\n",
      "|           B6|10406|\n",
      "|           AS| 4966|\n",
      "|           NK| 4435|\n",
      "|           F9| 3181|\n",
      "|           VX| 2871|\n",
      "|           HA| 2265|\n",
      "+-------------+-----+\n",
      "\n"
     ]
    }
   ],
   "source": [
    "delays_by_carrier = (flight_info.filter(flight_info[\"DepTime\"] > flight_info[\"CRSDepTime\"]).groupby(\"UniqueCarrier\").count()\n",
    "                     .sort(\"count\", ascending=False))\n",
    "\n",
    "delays_by_carrier.show()"
   ]
  },
  {
   "cell_type": "markdown",
   "id": "1645593b",
   "metadata": {},
   "source": [
    "### Q22\n",
    "\n",
    " Use the file `airlines.csv` to find the the complete name of the airline. Here, you are required to load the file as a pyspark DataFrame; call it `airlines_info`, and repeat the query above while including the `flights.csv `file in your query ( requires doing a `join`) so that you can also display the full name of the carrier (second column). \n",
    "\n",
    "The result will look (approximately) like:\n",
    "\n",
    "```\n",
    "[Row(UniqueCarrier='WN', first(_c1)='Southwest Airlines', count=SOME_count),\n",
    " Row(UniqueCarrier='DL', first(_c1)='Delta Air Lines', count=SOME_count),\n",
    " Row(UniqueCarrier='AA', first(_c1)='American Airlines', count=SOME_count),\n",
    " ...\n",
    " ]\n",
    "```\n",
    "\n",
    "The carrier code in the `airlines.csv` file is provided in the 4th (1-based) column\n",
    "\n",
    "Note that the file `airlines.csv` does not have column header. Hence, you need to print one line of your dataset to see what names Spark gave to the columns. Use the name provided by Spark in your query."
   ]
  },
  {
   "cell_type": "code",
   "execution_count": 43,
   "id": "30cea22b",
   "metadata": {},
   "outputs": [
    {
     "name": "stdout",
     "output_type": "stream",
     "text": [
      "+---+--------------------+---+----+----+---------------+--------------+---+\n",
      "|_c0|                 _c1|_c2| _c3| _c4|            _c5|           _c6|_c7|\n",
      "+---+--------------------+---+----+----+---------------+--------------+---+\n",
      "|  1|      Private flight| \\N|   -| N/A|           null|          null|  Y|\n",
      "|  2|         135 Airways| \\N|null| GNL|        GENERAL| United States|  N|\n",
      "|  3|       1Time Airline| \\N|  1T| RNX|        NEXTIME|  South Africa|  Y|\n",
      "|  4|2 Sqn No 1 Elemen...| \\N|null| WYT|           null|United Kingdom|  N|\n",
      "|  5|     213 Flight Unit| \\N|null| TFU|           null|        Russia|  N|\n",
      "|  6|223 Flight Unit S...| \\N|null| CHD| CHKALOVSK-AVIA|        Russia|  N|\n",
      "|  7|   224th Flight Unit| \\N|null| TTF|     CARGO UNIT|        Russia|  N|\n",
      "|  8|         247 Jet Ltd| \\N|null| TWF|   CLOUD RUNNER|United Kingdom|  N|\n",
      "|  9|         3D Aviation| \\N|null| SEC|        SECUREX| United States|  N|\n",
      "| 10|         40-Mile Air| \\N|  Q5| MLA|       MILE-AIR| United States|  Y|\n",
      "| 11|              4D Air| \\N|null| QRT|        QUARTET|      Thailand|  N|\n",
      "| 12|611897 Alberta Li...| \\N|null| THD|          DONUT|        Canada|  N|\n",
      "| 13|    Ansett Australia| \\N|  AN| AAA|         ANSETT|     Australia|  Y|\n",
      "| 14|Abacus International| \\N|  1B|null|           null|     Singapore|  Y|\n",
      "| 15|     Abelag Aviation| \\N|  W9| AAB|            ABG|       Belgium|  N|\n",
      "| 16|      Army Air Corps| \\N|null| AAC|        ARMYAIR|United Kingdom|  N|\n",
      "| 17|Aero Aviation Cen...| \\N|null| AAD|        SUNRISE|        Canada|  N|\n",
      "| 18|Aero Servicios Ej...| \\N|null| SII|         ASEISA|        Mexico|  N|\n",
      "| 19|         Aero Biniza| \\N|null| BZS|         BINIZA|        Mexico|  N|\n",
      "| 20|       Aero Albatros| \\N|null| ABM|ALBATROS ESPANA|         Spain|  N|\n",
      "+---+--------------------+---+----+----+---------------+--------------+---+\n",
      "only showing top 20 rows\n",
      "\n"
     ]
    }
   ],
   "source": [
    "airlines_info = spark.read.csv(\"data/airlines.csv\")\n",
    "\n",
    "airlines_info.show()"
   ]
  },
  {
   "cell_type": "code",
   "execution_count": 44,
   "id": "f36f2015",
   "metadata": {},
   "outputs": [
    {
     "data": {
      "text/plain": [
       "[Row(UniqueCarrier='WN', _c1='Southwest Airlines', count=54557),\n",
       " Row(UniqueCarrier='DL', _c1='Delta Air Lines', count=28962),\n",
       " Row(UniqueCarrier='AA', _c1='American Airlines', count=26291),\n",
       " Row(UniqueCarrier='UA', _c1='United Airlines', count=19594),\n",
       " Row(UniqueCarrier='OO', _c1='SkyWest', count=17924),\n",
       " Row(UniqueCarrier='EV', _c1='Atlantic Southeast Airlines', count=12340),\n",
       " Row(UniqueCarrier='B6', _c1='JetBlue Airways', count=10406),\n",
       " Row(UniqueCarrier='AS', _c1='Alaska Airlines', count=4966),\n",
       " Row(UniqueCarrier='NK', _c1='Spirit Airlines', count=4435),\n",
       " Row(UniqueCarrier='F9', _c1='Frontier Airlines', count=3181),\n",
       " Row(UniqueCarrier='VX', _c1='Virgin America', count=2871),\n",
       " Row(UniqueCarrier='HA', _c1='Hawaiian Airlines', count=2265)]"
      ]
     },
     "execution_count": 44,
     "metadata": {},
     "output_type": "execute_result"
    }
   ],
   "source": [
    "delays_by_carrier_full = (airlines_info.join(flight_info, airlines_info._c3 ==  flight_info.UniqueCarrier, \"inner\")\n",
    "                 .filter(flight_info.DepTime > flight_info.CRSDepTime).groupBy(flight_info.UniqueCarrier, airlines_info._c1)\n",
    "                 .count().orderBy(\"count\", ascending=False).collect())\n",
    "\n",
    "delays_by_carrier_full"
   ]
  },
  {
   "cell_type": "markdown",
   "id": "4e0123a8",
   "metadata": {},
   "source": [
    "### Q23\n",
    "\n",
    "Compute the number of delays per company per day. The day is encoded as an integer in the column `DayOfWeek` in `fight_info`. You can display the day as an integer or map it into a string name of the week.\n",
    "Sort the data by airline code (UniqueCarrier) and by increasing values of DayOfWeek\n",
    "\n",
    "\n",
    "You results should look like the following\n",
    "\n"
   ]
  },
  {
   "cell_type": "code",
   "execution_count": 45,
   "id": "f9971baa",
   "metadata": {},
   "outputs": [
    {
     "data": {
      "text/plain": [
       "[Row(UniqueCarrier='AA', DayOfWeek='1', count=5117),\n",
       " Row(UniqueCarrier='AA', DayOfWeek='2', count=3688),\n",
       " Row(UniqueCarrier='AA', DayOfWeek='3', count=2941),\n",
       " Row(UniqueCarrier='AA', DayOfWeek='4', count=3575),\n",
       " Row(UniqueCarrier='AA', DayOfWeek='5', count=3525),\n",
       " Row(UniqueCarrier='AA', DayOfWeek='6', count=2800),\n",
       " Row(UniqueCarrier='AA', DayOfWeek='7', count=4645),\n",
       " Row(UniqueCarrier='AS', DayOfWeek='1', count=872),\n",
       " Row(UniqueCarrier='AS', DayOfWeek='2', count=669),\n",
       " Row(UniqueCarrier='AS', DayOfWeek='3', count=618),\n",
       " Row(UniqueCarrier='AS', DayOfWeek='4', count=728),\n",
       " Row(UniqueCarrier='AS', DayOfWeek='5', count=630),\n",
       " Row(UniqueCarrier='AS', DayOfWeek='6', count=517),\n",
       " Row(UniqueCarrier='AS', DayOfWeek='7', count=932),\n",
       " Row(UniqueCarrier='B6', DayOfWeek='1', count=1892),\n",
       " Row(UniqueCarrier='B6', DayOfWeek='2', count=1787),\n",
       " Row(UniqueCarrier='B6', DayOfWeek='3', count=1253),\n",
       " Row(UniqueCarrier='B6', DayOfWeek='4', count=1254),\n",
       " Row(UniqueCarrier='B6', DayOfWeek='5', count=1309),\n",
       " Row(UniqueCarrier='B6', DayOfWeek='6', count=1027),\n",
       " Row(UniqueCarrier='B6', DayOfWeek='7', count=1884),\n",
       " Row(UniqueCarrier='DL', DayOfWeek='1', count=6292),\n",
       " Row(UniqueCarrier='DL', DayOfWeek='2', count=4008),\n",
       " Row(UniqueCarrier='DL', DayOfWeek='3', count=3052),\n",
       " Row(UniqueCarrier='DL', DayOfWeek='4', count=3657),\n",
       " Row(UniqueCarrier='DL', DayOfWeek='5', count=3722),\n",
       " Row(UniqueCarrier='DL', DayOfWeek='6', count=2977),\n",
       " Row(UniqueCarrier='DL', DayOfWeek='7', count=5254),\n",
       " Row(UniqueCarrier='EV', DayOfWeek='1', count=2605),\n",
       " Row(UniqueCarrier='EV', DayOfWeek='2', count=2032),\n",
       " Row(UniqueCarrier='EV', DayOfWeek='3', count=1364),\n",
       " Row(UniqueCarrier='EV', DayOfWeek='4', count=1667),\n",
       " Row(UniqueCarrier='EV', DayOfWeek='5', count=1748),\n",
       " Row(UniqueCarrier='EV', DayOfWeek='6', count=927),\n",
       " Row(UniqueCarrier='EV', DayOfWeek='7', count=1997),\n",
       " Row(UniqueCarrier='F9', DayOfWeek='1', count=632),\n",
       " Row(UniqueCarrier='F9', DayOfWeek='2', count=494),\n",
       " Row(UniqueCarrier='F9', DayOfWeek='3', count=358),\n",
       " Row(UniqueCarrier='F9', DayOfWeek='4', count=392),\n",
       " Row(UniqueCarrier='F9', DayOfWeek='5', count=415),\n",
       " Row(UniqueCarrier='F9', DayOfWeek='6', count=356),\n",
       " Row(UniqueCarrier='F9', DayOfWeek='7', count=534),\n",
       " Row(UniqueCarrier='HA', DayOfWeek='1', count=300),\n",
       " Row(UniqueCarrier='HA', DayOfWeek='2', count=336),\n",
       " Row(UniqueCarrier='HA', DayOfWeek='3', count=255),\n",
       " Row(UniqueCarrier='HA', DayOfWeek='4', count=286),\n",
       " Row(UniqueCarrier='HA', DayOfWeek='5', count=412),\n",
       " Row(UniqueCarrier='HA', DayOfWeek='6', count=344),\n",
       " Row(UniqueCarrier='HA', DayOfWeek='7', count=332),\n",
       " Row(UniqueCarrier='NK', DayOfWeek='1', count=848),\n",
       " Row(UniqueCarrier='NK', DayOfWeek='2', count=667),\n",
       " Row(UniqueCarrier='NK', DayOfWeek='3', count=460),\n",
       " Row(UniqueCarrier='NK', DayOfWeek='4', count=581),\n",
       " Row(UniqueCarrier='NK', DayOfWeek='5', count=576),\n",
       " Row(UniqueCarrier='NK', DayOfWeek='6', count=471),\n",
       " Row(UniqueCarrier='NK', DayOfWeek='7', count=832),\n",
       " Row(UniqueCarrier='OO', DayOfWeek='1', count=3467),\n",
       " Row(UniqueCarrier='OO', DayOfWeek='2', count=2744),\n",
       " Row(UniqueCarrier='OO', DayOfWeek='3', count=2236),\n",
       " Row(UniqueCarrier='OO', DayOfWeek='4', count=2615),\n",
       " Row(UniqueCarrier='OO', DayOfWeek='5', count=2603),\n",
       " Row(UniqueCarrier='OO', DayOfWeek='6', count=1492),\n",
       " Row(UniqueCarrier='OO', DayOfWeek='7', count=2767),\n",
       " Row(UniqueCarrier='UA', DayOfWeek='1', count=3893),\n",
       " Row(UniqueCarrier='UA', DayOfWeek='2', count=2959),\n",
       " Row(UniqueCarrier='UA', DayOfWeek='3', count=2449),\n",
       " Row(UniqueCarrier='UA', DayOfWeek='4', count=2776),\n",
       " Row(UniqueCarrier='UA', DayOfWeek='5', count=2695),\n",
       " Row(UniqueCarrier='UA', DayOfWeek='6', count=1576),\n",
       " Row(UniqueCarrier='UA', DayOfWeek='7', count=3246),\n",
       " Row(UniqueCarrier='VX', DayOfWeek='1', count=564),\n",
       " Row(UniqueCarrier='VX', DayOfWeek='2', count=425),\n",
       " Row(UniqueCarrier='VX', DayOfWeek='3', count=362),\n",
       " Row(UniqueCarrier='VX', DayOfWeek='4', count=414),\n",
       " Row(UniqueCarrier='VX', DayOfWeek='5', count=404),\n",
       " Row(UniqueCarrier='VX', DayOfWeek='6', count=231),\n",
       " Row(UniqueCarrier='VX', DayOfWeek='7', count=471),\n",
       " Row(UniqueCarrier='WN', DayOfWeek='1', count=9970),\n",
       " Row(UniqueCarrier='WN', DayOfWeek='2', count=7991),\n",
       " Row(UniqueCarrier='WN', DayOfWeek='3', count=6749),\n",
       " Row(UniqueCarrier='WN', DayOfWeek='4', count=7996),\n",
       " Row(UniqueCarrier='WN', DayOfWeek='5', count=7900),\n",
       " Row(UniqueCarrier='WN', DayOfWeek='6', count=5270),\n",
       " Row(UniqueCarrier='WN', DayOfWeek='7', count=8681)]"
      ]
     },
     "execution_count": 45,
     "metadata": {},
     "output_type": "execute_result"
    }
   ],
   "source": [
    "delays_by_carrier_day = (flight_info.filter(flight_info.DepTime > flight_info.CRSDepTime)\n",
    "                         .groupBy(flight_info.UniqueCarrier, flight_info.DayOfWeek).count()\n",
    "                         .orderBy(\"UniqueCarrier\", \"DayOfWeek\", ascending=True).collect())\n",
    "\n",
    "delays_by_carrier_day"
   ]
  },
  {
   "cell_type": "markdown",
   "id": "4c955760",
   "metadata": {},
   "source": [
    "### Q24  \n",
    "\n",
    "Counting the number of delayed flights per airline is misleading, as airlines with more flights are more likley to have delays than companies with substantially fiewer flights. \n",
    "\n",
    "Repeat the same query above but, for each carrier, normalize the counts of delays by the total number of flights for that carrier. \n"
   ]
  },
  {
   "cell_type": "code",
   "execution_count": 47,
   "id": "13ae9b5e",
   "metadata": {},
   "outputs": [
    {
     "data": {
      "text/plain": [
       "[Row(_c1='JetBlue Airways', UniqueCarrier='B6', NormalizedDelays=0.423),\n",
       " Row(_c1='Atlantic Southeast Airlines', UniqueCarrier='EV', NormalizedDelays=0.3522),\n",
       " Row(_c1='Delta Air Lines', UniqueCarrier='DL', NormalizedDelays=0.4149),\n",
       " Row(_c1='American Airlines', UniqueCarrier='AA', NormalizedDelays=0.3595),\n",
       " Row(_c1='Frontier Airlines', UniqueCarrier='F9', NormalizedDelays=0.4099),\n",
       " Row(_c1='SkyWest', UniqueCarrier='OO', NormalizedDelays=0.3574),\n",
       " Row(_c1='Spirit Airlines', UniqueCarrier='NK', NormalizedDelays=0.3528),\n",
       " Row(_c1='Hawaiian Airlines', UniqueCarrier='HA', NormalizedDelays=0.3609),\n",
       " Row(_c1='United Airlines', UniqueCarrier='UA', NormalizedDelays=0.4621),\n",
       " Row(_c1='Southwest Airlines', UniqueCarrier='WN', NormalizedDelays=0.5062),\n",
       " Row(_c1='Alaska Airlines', UniqueCarrier='AS', NormalizedDelays=0.3376),\n",
       " Row(_c1='Virgin America', UniqueCarrier='VX', NormalizedDelays=0.4965)]"
      ]
     },
     "execution_count": 47,
     "metadata": {},
     "output_type": "execute_result"
    }
   ],
   "source": [
    "flights_by_carrier = (airlines_info.join(flight_info, airlines_info._c3 ==  flight_info.UniqueCarrier, \"inner\")\n",
    "                      .groupBy(flight_info.UniqueCarrier, airlines_info._c1).count())\n",
    "\n",
    "delays_by_carrier = (airlines_info.join(flight_info, airlines_info._c3 ==  flight_info.UniqueCarrier, \"inner\")\n",
    "                     .filter(flight_info.DepTime > flight_info.CRSDepTime)\n",
    "                     .groupBy(flight_info.UniqueCarrier, airlines_info._c1).count())\n",
    "\n",
    "flights_by_carrier.createOrReplaceTempView(\"flights\")\n",
    "delays_by_carrier.createOrReplaceTempView(\"delays\")\n",
    "\n",
    "normalized_delays_by_carrier = spark.sql(\"\"\"\n",
    "SELECT D._c1, D.UniqueCarrier, ROUND(D.count/F.count, 4) AS NormalizedDelays\n",
    "FROM delays as D\n",
    "JOIN flights as F\n",
    "WHERE D.UniqueCarrier = F.UniqueCarrier\n",
    "\"\"\")\n",
    "\n",
    "normalized_delays_by_carrier.collect()"
   ]
  },
  {
   "cell_type": "markdown",
   "id": "5b73b3e4",
   "metadata": {},
   "source": [
    "### Q25 \n",
    "\n",
    "Time the query above. How long did it take to run. \n",
    "  * Make sure you run the code a few times and compute the average run time.\n",
    "  * The above should be easy to implement if you use the correct Jupyter Notebook `magic` function\n",
    "  "
   ]
  },
  {
   "cell_type": "code",
   "execution_count": 51,
   "id": "7df43da8",
   "metadata": {},
   "outputs": [
    {
     "name": "stdout",
     "output_type": "stream",
     "text": [
      "196 ms ± 25 ms per loop (mean ± std. dev. of 100 runs, 1 loop each)\n"
     ]
    }
   ],
   "source": [
    "%%timeit -r100\n",
    "\n",
    "normalized_delays_by_carrier = spark.sql(\"\"\"\n",
    "SELECT D._c1, D.UniqueCarrier, ROUND(D.count/F.count, 4) AS NormalizedDelays\n",
    "FROM delays as D\n",
    "JOIN flights as F\n",
    "WHERE D.UniqueCarrier = F.UniqueCarrier\n",
    "\"\"\")\n",
    "\n",
    "normalized_delays_by_carrier.collect()"
   ]
  },
  {
   "cell_type": "markdown",
   "id": "604e85e0",
   "metadata": {},
   "source": [
    "### Q26 \n",
    "\n",
    "Use one of the techniques covered in class to accelerate this query. Time your query to see by how much the run time was improved"
   ]
  },
  {
   "cell_type": "code",
   "execution_count": 60,
   "id": "2e951d64",
   "metadata": {},
   "outputs": [
    {
     "name": "stderr",
     "output_type": "stream",
     "text": [
      "21/11/09 07:45:40 WARN CacheManager: Asked to cache already cached data.\n",
      "21/11/09 07:45:41 WARN CacheManager: Asked to cache already cached data.\n"
     ]
    },
    {
     "data": {
      "text/plain": [
       "[]"
      ]
     },
     "execution_count": 60,
     "metadata": {},
     "output_type": "execute_result"
    }
   ],
   "source": [
    "spark.sql(\"\"\"\n",
    "CACHE TABLE flights\n",
    "\"\"\").collect()\n",
    "\n",
    "spark.sql(\"\"\"\n",
    "CACHE TABLE delays\n",
    "\"\"\").collect()"
   ]
  },
  {
   "cell_type": "code",
   "execution_count": 59,
   "id": "82151eba",
   "metadata": {},
   "outputs": [
    {
     "name": "stdout",
     "output_type": "stream",
     "text": [
      "211 ms ± 25.6 ms per loop (mean ± std. dev. of 100 runs, 1 loop each)\n"
     ]
    }
   ],
   "source": [
    "%%timeit -r100\n",
    "\n",
    "normalized_delays_by_carrier = spark.sql(\"\"\"\n",
    "SELECT D._c1, D.UniqueCarrier, ROUND(D.count/F.count, 4) AS NormalizedDelays\n",
    "FROM delays as D\n",
    "JOIN flights as F\n",
    "WHERE D.UniqueCarrier = F.UniqueCarrier\n",
    "\"\"\")\n",
    "\n",
    "normalized_delays_by_carrier.collect()"
   ]
  },
  {
   "cell_type": "markdown",
   "id": "8a87a433",
   "metadata": {},
   "source": [
    "### Q27 \n",
    "\n",
    "Is the departure delay (i.e., DepTime - CRSDepTime) predictive of the arrival delay (ArrTime > CRSArrTime)?\n",
    "Use an approach of your choice (e.g. `skelearn` which we covered in class or `Spark`) to model as a linear regression the arrival delay as a function of the departure delay. \n",
    "\n"
   ]
  },
  {
   "cell_type": "code",
   "execution_count": 55,
   "id": "f8dbd52d",
   "metadata": {},
   "outputs": [
    {
     "data": {
      "text/html": [
       "<div>\n",
       "<style scoped>\n",
       "    .dataframe tbody tr th:only-of-type {\n",
       "        vertical-align: middle;\n",
       "    }\n",
       "\n",
       "    .dataframe tbody tr th {\n",
       "        vertical-align: top;\n",
       "    }\n",
       "\n",
       "    .dataframe thead th {\n",
       "        text-align: right;\n",
       "    }\n",
       "</style>\n",
       "<table border=\"1\" class=\"dataframe\">\n",
       "  <thead>\n",
       "    <tr style=\"text-align: right;\">\n",
       "      <th></th>\n",
       "      <th>DD</th>\n",
       "      <th>AD</th>\n",
       "    </tr>\n",
       "  </thead>\n",
       "  <tbody>\n",
       "    <tr>\n",
       "      <th>0</th>\n",
       "      <td>-3.0</td>\n",
       "      <td>-14.0</td>\n",
       "    </tr>\n",
       "    <tr>\n",
       "      <th>1</th>\n",
       "      <td>-5.0</td>\n",
       "      <td>-35.0</td>\n",
       "    </tr>\n",
       "    <tr>\n",
       "      <th>2</th>\n",
       "      <td>-8.0</td>\n",
       "      <td>-30.0</td>\n",
       "    </tr>\n",
       "    <tr>\n",
       "      <th>3</th>\n",
       "      <td>37.0</td>\n",
       "      <td>73.0</td>\n",
       "    </tr>\n",
       "    <tr>\n",
       "      <th>4</th>\n",
       "      <td>13.0</td>\n",
       "      <td>2.0</td>\n",
       "    </tr>\n",
       "    <tr>\n",
       "      <th>...</th>\n",
       "      <td>...</td>\n",
       "      <td>...</td>\n",
       "    </tr>\n",
       "    <tr>\n",
       "      <th>440741</th>\n",
       "      <td>-43.0</td>\n",
       "      <td>3.0</td>\n",
       "    </tr>\n",
       "    <tr>\n",
       "      <th>440742</th>\n",
       "      <td>-6.0</td>\n",
       "      <td>2.0</td>\n",
       "    </tr>\n",
       "    <tr>\n",
       "      <th>440743</th>\n",
       "      <td>-3.0</td>\n",
       "      <td>-20.0</td>\n",
       "    </tr>\n",
       "    <tr>\n",
       "      <th>440744</th>\n",
       "      <td>-4.0</td>\n",
       "      <td>-57.0</td>\n",
       "    </tr>\n",
       "    <tr>\n",
       "      <th>440745</th>\n",
       "      <td>-5.0</td>\n",
       "      <td>-31.0</td>\n",
       "    </tr>\n",
       "  </tbody>\n",
       "</table>\n",
       "<p>440746 rows × 2 columns</p>\n",
       "</div>"
      ],
      "text/plain": [
       "          DD    AD\n",
       "0       -3.0 -14.0\n",
       "1       -5.0 -35.0\n",
       "2       -8.0 -30.0\n",
       "3       37.0  73.0\n",
       "4       13.0   2.0\n",
       "...      ...   ...\n",
       "440741 -43.0   3.0\n",
       "440742  -6.0   2.0\n",
       "440743  -3.0 -20.0\n",
       "440744  -4.0 -57.0\n",
       "440745  -5.0 -31.0\n",
       "\n",
       "[440746 rows x 2 columns]"
      ]
     },
     "execution_count": 55,
     "metadata": {},
     "output_type": "execute_result"
    }
   ],
   "source": [
    "from sklearn.metrics import mean_squared_error, r2_score\n",
    "from pyspark.sql import functions as func\n",
    "from scipy.stats import linregress\n",
    "import matplotlib.pyplot as plt\n",
    "\n",
    "\n",
    "table = (flight_info.filter(\"Cancelled != 1 AND DepTime IS NOT NULL AND ArrTime IS NOT NULL\")\n",
    "          .select((func.col(\"DepTime\") - func.col(\"CRSDepTime\")).alias(\"DD\"),\n",
    "                  (func.col(\"ArrTime\") - func.col(\"CRSArrTime\")).alias(\"AD\")).toPandas())\n",
    "table"
   ]
  },
  {
   "cell_type": "code",
   "execution_count": 56,
   "id": "3ef83f26",
   "metadata": {},
   "outputs": [
    {
     "data": {
      "text/plain": [
       "LinregressResult(slope=0.22335475547344275, intercept=-20.14816658160143, rvalue=0.11616972584526296, pvalue=0.0, stderr=0.002876461667436919, intercept_stderr=0.4374235372787865)"
      ]
     },
     "execution_count": 56,
     "metadata": {},
     "output_type": "execute_result"
    }
   ],
   "source": [
    "departure_delay = np.array(table[\"DD\"].tolist())\n",
    "arrival_delay = np.array(table[\"AD\"].tolist())\n",
    "\n",
    "linreg = linregress(departure_delay, arrival_delay)\n",
    "linreg"
   ]
  },
  {
   "cell_type": "code",
   "execution_count": 73,
   "id": "2f1d2765",
   "metadata": {},
   "outputs": [
    {
     "data": {
      "text/plain": [
       "[<matplotlib.lines.Line2D at 0x7fe89bd3e610>]"
      ]
     },
     "execution_count": 73,
     "metadata": {},
     "output_type": "execute_result"
    },
    {
     "data": {
      "image/png": "[encoded data removed]",
      "text/plain": [
       "<Figure size 720x720 with 1 Axes>"
      ]
     },
     "metadata": {
      "needs_background": "light"
     },
     "output_type": "display_data"
    }
   ],
   "source": [
    "plt.figure(figsize=(10,10))\n",
    "\n",
    "x_axis = np.arange(-2400, 2400)\n",
    "y_line = linreg.intercept + linreg.slope * x_axis\n",
    "\n",
    "plt.scatter(departure_delay, arrival_delay)\n",
    "plt.plot(x_axis, y_line, color='red', linewidth=4, alpha=0.5)"
   ]
  },
  {
   "cell_type": "markdown",
   "id": "7befd9f1",
   "metadata": {},
   "source": [
    "Looking at the linear regression, it appears that there may be a slight correlation between departure delays and arrival delays, but I would say that the correlation is very weak."
   ]
  }
 ],
 "metadata": {
  "kernelspec": {
   "display_name": "Python 3 (ipykernel)",
   "language": "python",
   "name": "python3"
  },
  "language_info": {
   "codemirror_mode": {
    "name": "ipython",
    "version": 3
   },
   "file_extension": ".py",
   "mimetype": "text/x-python",
   "name": "python",
   "nbconvert_exporter": "python",
   "pygments_lexer": "ipython3",
   "version": "3.9.7"
  }
 },
 "nbformat": 4,
 "nbformat_minor": 5
}
